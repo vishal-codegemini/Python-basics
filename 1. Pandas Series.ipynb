{
 "cells": [
  {
   "cell_type": "markdown",
   "id": "4a4f1f97-db19-4504-8e69-426638e5ff95",
   "metadata": {},
   "source": [
    "### Author- <span style=\"color: purple;\"> Vishal Bhosale</span>\n",
    "Contact No- <span style=\"color: orange;\">9175916216</span>\n",
    "Date: <span style=\"color: teal;\">03-Aug-2024</span>"
   ]
  },
  {
   "cell_type": "markdown",
   "id": "31e4844f-5b9c-4007-bd94-f78086fb3e61",
   "metadata": {},
   "source": [
    "#### 1. Write a  Pandas program to create and display a one-dimensional array-like object containing an array of data using Pandas module."
   ]
  },
  {
   "cell_type": "code",
   "execution_count": 1,
   "id": "daccfa2f-9393-4749-a9e1-91cf61fb7a86",
   "metadata": {},
   "outputs": [
    {
     "name": "stdout",
     "output_type": "stream",
     "text": [
      "Intel MKL WARNING: Support of Intel(R) Streaming SIMD Extensions 4.2 (Intel(R) SSE4.2) enabled only processors has been deprecated. Intel oneAPI Math Kernel Library 2025.0 will require Intel(R) Advanced Vector Extensions (Intel(R) AVX) instructions.\n",
      "Intel MKL WARNING: Support of Intel(R) Streaming SIMD Extensions 4.2 (Intel(R) SSE4.2) enabled only processors has been deprecated. Intel oneAPI Math Kernel Library 2025.0 will require Intel(R) Advanced Vector Extensions (Intel(R) AVX) instructions.\n"
     ]
    },
    {
     "data": {
      "text/plain": [
       "0    1\n",
       "1    2\n",
       "2    3\n",
       "3    4\n",
       "4    5\n",
       "dtype: int64"
      ]
     },
     "metadata": {},
     "output_type": "display_data"
    }
   ],
   "source": [
    "import pandas as pd\n",
    "\n",
    "array = [1,2,3,4,5]\n",
    "s = pd.Series(array)\n",
    "display(s)"
   ]
  },
  {
   "cell_type": "markdown",
   "id": "f4f9693d-72d2-4997-ad33-bf74f176b7de",
   "metadata": {},
   "source": [
    "#### 2. Write a Pandas program to convert a Panda module Series to  Python list and it's type."
   ]
  },
  {
   "cell_type": "code",
   "execution_count": 4,
   "id": "995cbdd0-9c96-4902-92c4-03954ec2a2dd",
   "metadata": {},
   "outputs": [
    {
     "data": {
      "text/plain": [
       "[1, 2, 3, 4, 5]"
      ]
     },
     "execution_count": 4,
     "metadata": {},
     "output_type": "execute_result"
    }
   ],
   "source": [
    "s.to_list() # Convert to a list"
   ]
  },
  {
   "cell_type": "code",
   "execution_count": 6,
   "id": "5b8eb51b-b97c-4a8d-9227-905469f2418f",
   "metadata": {},
   "outputs": [
    {
     "data": {
      "text/plain": [
       "list"
      ]
     },
     "execution_count": 6,
     "metadata": {},
     "output_type": "execute_result"
    }
   ],
   "source": [
    "type(s.to_list()) # Type"
   ]
  },
  {
   "cell_type": "markdown",
   "id": "67b78692-2fb4-45fd-a65e-72fff5f0093d",
   "metadata": {},
   "source": [
    "#### 3. Write a Pandas program to add, subtract, multiple and divide two Pandas Series.\n",
    "Sample Series: [2, 4, 6, 8, 10], [1, 3, 5, 7, 9]\n"
   ]
  },
  {
   "cell_type": "code",
   "execution_count": 7,
   "id": "9b1fee77-7179-4a14-924b-8d4b0d2564e6",
   "metadata": {},
   "outputs": [
    {
     "data": {
      "text/plain": [
       "0     2\n",
       "1     4\n",
       "2     6\n",
       "3     8\n",
       "4    10\n",
       "dtype: int64"
      ]
     },
     "metadata": {},
     "output_type": "display_data"
    },
    {
     "data": {
      "text/plain": [
       "0    1\n",
       "1    3\n",
       "2    5\n",
       "3    7\n",
       "4    9\n",
       "dtype: int64"
      ]
     },
     "metadata": {},
     "output_type": "display_data"
    }
   ],
   "source": [
    "sample_series_1 = [2, 4, 6, 8, 10]\n",
    "sample_series_2 = [1, 3, 5, 7, 9]\n",
    "\n",
    "s1 = pd.Series(sample_series_1)\n",
    "s2 = pd.Series(sample_series_2)\n",
    "display(s1, s2)"
   ]
  },
  {
   "cell_type": "code",
   "execution_count": 10,
   "id": "89808f52-235c-49a3-9ea8-4981b009e123",
   "metadata": {},
   "outputs": [
    {
     "data": {
      "text/plain": [
       "0     3\n",
       "1     7\n",
       "2    11\n",
       "3    15\n",
       "4    19\n",
       "dtype: int64"
      ]
     },
     "execution_count": 10,
     "metadata": {},
     "output_type": "execute_result"
    }
   ],
   "source": [
    "# Add\n",
    "s1 + s2"
   ]
  },
  {
   "cell_type": "code",
   "execution_count": 11,
   "id": "22662248-f0e7-44fe-8560-9292c9898b43",
   "metadata": {},
   "outputs": [
    {
     "data": {
      "text/plain": [
       "0    1\n",
       "1    1\n",
       "2    1\n",
       "3    1\n",
       "4    1\n",
       "dtype: int64"
      ]
     },
     "execution_count": 11,
     "metadata": {},
     "output_type": "execute_result"
    }
   ],
   "source": [
    "# Subtract\n",
    "s1 - s2"
   ]
  },
  {
   "cell_type": "code",
   "execution_count": 12,
   "id": "98a8893d-d55a-46a8-b7bf-bc398b0ecf9e",
   "metadata": {},
   "outputs": [
    {
     "data": {
      "text/plain": [
       "0     2\n",
       "1    12\n",
       "2    30\n",
       "3    56\n",
       "4    90\n",
       "dtype: int64"
      ]
     },
     "execution_count": 12,
     "metadata": {},
     "output_type": "execute_result"
    }
   ],
   "source": [
    "# Multiple\n",
    "s1 * s2"
   ]
  },
  {
   "cell_type": "code",
   "execution_count": 13,
   "id": "eda48c9f-641a-411a-9ce1-8c62c0c0d36d",
   "metadata": {},
   "outputs": [
    {
     "data": {
      "text/plain": [
       "0    2.000000\n",
       "1    1.333333\n",
       "2    1.200000\n",
       "3    1.142857\n",
       "4    1.111111\n",
       "dtype: float64"
      ]
     },
     "execution_count": 13,
     "metadata": {},
     "output_type": "execute_result"
    }
   ],
   "source": [
    "# Divide\n",
    "s1 / s2"
   ]
  },
  {
   "cell_type": "markdown",
   "id": "b583b525-d72e-499e-94c1-98794790264f",
   "metadata": {},
   "source": [
    "#### 4. Write a  Pandas program to compare the elements of the two Pandas Series.\n",
    "Sample Series: [2, 4, 6, 8, 10], [1, 3, 5, 7, 10]"
   ]
  },
  {
   "cell_type": "code",
   "execution_count": 14,
   "id": "64a4a648-76f5-4191-b648-bfae25cff8a4",
   "metadata": {},
   "outputs": [
    {
     "data": {
      "text/plain": [
       "0     2\n",
       "1     4\n",
       "2     6\n",
       "3     8\n",
       "4    10\n",
       "dtype: int64"
      ]
     },
     "metadata": {},
     "output_type": "display_data"
    },
    {
     "data": {
      "text/plain": [
       "0     1\n",
       "1     3\n",
       "2     5\n",
       "3     7\n",
       "4    10\n",
       "dtype: int64"
      ]
     },
     "metadata": {},
     "output_type": "display_data"
    }
   ],
   "source": [
    "sample_series_1 = [2, 4, 6, 8, 10]\n",
    "sample_series_2 = [1, 3, 5, 7, 10]\n",
    "\n",
    "s1 = pd.Series(sample_series_1)\n",
    "s2 = pd.Series(sample_series_2)\n",
    "display(s1, s2)"
   ]
  },
  {
   "cell_type": "code",
   "execution_count": 19,
   "id": "8cade657-3735-4da3-a3c4-f01df9e789fe",
   "metadata": {},
   "outputs": [
    {
     "data": {
      "text/plain": [
       "0    False\n",
       "1    False\n",
       "2    False\n",
       "3    False\n",
       "4     True\n",
       "dtype: bool"
      ]
     },
     "execution_count": 19,
     "metadata": {},
     "output_type": "execute_result"
    }
   ],
   "source": [
    "s1==s2"
   ]
  },
  {
   "cell_type": "code",
   "execution_count": 20,
   "id": "fb2ad0c3-64dc-476e-bd2b-ca6ef8dc6743",
   "metadata": {},
   "outputs": [
    {
     "data": {
      "text/plain": [
       "4    10\n",
       "dtype: int64"
      ]
     },
     "execution_count": 20,
     "metadata": {},
     "output_type": "execute_result"
    }
   ],
   "source": [
    "# To get the element\n",
    "s1[s1==s2]"
   ]
  },
  {
   "cell_type": "markdown",
   "id": "d6509d4e-2806-4deb-ab35-705359a6ef52",
   "metadata": {},
   "source": [
    "#### 5. Write a Pandas program to convert a dictionary to a Pandas series."
   ]
  },
  {
   "cell_type": "markdown",
   "id": "f5237ec6-00fd-4051-9d40-ff91a4f31a24",
   "metadata": {},
   "source": [
    "Sample Series: \n",
    "Original dictionary:\n",
    "{'a': 100, 'b': 200, 'c': 300, 'd': 400, 'e': 800}\n",
    "\n",
    "Converted series:\n",
    "a    100\n",
    "b    200\n",
    "c    300\n",
    "d    400\n",
    "e    800\n",
    "dtype: int64 "
   ]
  },
  {
   "cell_type": "code",
   "execution_count": 21,
   "id": "e56c1e9d-018c-4a69-b7cc-ac989dd6695b",
   "metadata": {},
   "outputs": [
    {
     "data": {
      "text/plain": [
       "a    100\n",
       "b    200\n",
       "c    300\n",
       "d    400\n",
       "e    800\n",
       "dtype: int64"
      ]
     },
     "execution_count": 21,
     "metadata": {},
     "output_type": "execute_result"
    }
   ],
   "source": [
    "d = {'a': 100, 'b': 200, 'c': 300, 'd': 400, 'e': 800}\n",
    "s = pd.Series(d)\n",
    "s"
   ]
  },
  {
   "cell_type": "markdown",
   "id": "7216d2cd-75c1-4ad6-9e6d-c8b167ed6048",
   "metadata": {},
   "source": [
    "#### 6. Write a  Pandas program to convert a  NumPy array to a Pandas series."
   ]
  },
  {
   "cell_type": "markdown",
   "id": "cf350543-3787-4f3c-91e8-a78af0641d0f",
   "metadata": {},
   "source": [
    "Sample Series: \n",
    "  NumPy array:\n",
    "[10 20 30 40 50]\n",
    "Converted Pandas series:\n",
    "0    10\n",
    "1    20\n",
    "2    30\n",
    "3    40\n",
    "4    50\n",
    "dtype: int64 "
   ]
  },
  {
   "cell_type": "code",
   "execution_count": 25,
   "id": "358effd5-eae8-4c4f-acbc-99ca22011807",
   "metadata": {},
   "outputs": [
    {
     "data": {
      "text/plain": [
       "0    10\n",
       "1    20\n",
       "2    30\n",
       "3    40\n",
       "4    50\n",
       "dtype: int64"
      ]
     },
     "execution_count": 25,
     "metadata": {},
     "output_type": "execute_result"
    }
   ],
   "source": [
    "import numpy as np\n",
    "\n",
    "array = np.array([10, 20, 30, 40, 50])\n",
    "s = pd.Series(array)\n",
    "s"
   ]
  },
  {
   "cell_type": "markdown",
   "id": "0ba193ce-19d7-4e0e-b8fc-f02cbd1e656d",
   "metadata": {},
   "source": [
    "#### 7. Write a Pandas program to change the data type of given a column or a Series."
   ]
  },
  {
   "cell_type": "markdown",
   "id": "27bb0237-85ca-4e53-b6b2-b407160bc001",
   "metadata": {},
   "source": [
    "Sample Series: \n",
    "    Original Data Series:\n",
    "0       100\n",
    "1       200\n",
    "2    python\n",
    "3    300.12\n",
    "4       400\n",
    "dtype: object\n",
    "Change the said data type to numeric:\n",
    "0    100.00\n",
    "1    200.00\n",
    "2       NaN\n",
    "3    300.12\n",
    "4    400.00\n",
    "dtype: float64"
   ]
  },
  {
   "cell_type": "code",
   "execution_count": 26,
   "id": "2632af7d-b1f3-48e1-836e-382593b6e9d1",
   "metadata": {},
   "outputs": [
    {
     "data": {
      "text/plain": [
       "0       100\n",
       "1       200\n",
       "2    python\n",
       "3    300.12\n",
       "4       400\n",
       "dtype: object"
      ]
     },
     "execution_count": 26,
     "metadata": {},
     "output_type": "execute_result"
    }
   ],
   "source": [
    "l = [100, 200, 'python', 300.12, 400]\n",
    "s = pd.Series(l)\n",
    "s"
   ]
  },
  {
   "cell_type": "code",
   "execution_count": 35,
   "id": "26d7e9cc-cd1c-4575-a992-e730351194df",
   "metadata": {},
   "outputs": [
    {
     "data": {
      "text/plain": [
       "0    100.00\n",
       "1    200.00\n",
       "2       NaN\n",
       "3    300.12\n",
       "4    400.00\n",
       "dtype: float64"
      ]
     },
     "execution_count": 35,
     "metadata": {},
     "output_type": "execute_result"
    }
   ],
   "source": [
    "# s.astype('float')\n",
    "pd.to_numeric(s, errors='coerce')"
   ]
  },
  {
   "cell_type": "markdown",
   "id": "62e33770-167b-4a64-83e8-f11364c15845",
   "metadata": {},
   "source": [
    "#### 8. Write a  Pandas program to convert the first column of a DataFrame as a Series.\n"
   ]
  },
  {
   "cell_type": "raw",
   "id": "907c7aa0-e2d9-441a-9a15-6b922bc20804",
   "metadata": {},
   "source": [
    "Original DataFrame\n",
    "   col1  col2  col3\n",
    "0     1     4     7\n",
    "1     2     5     5\n",
    "2     3     6     8\n",
    "3     4     9    12\n",
    "4     7     5     1\n",
    "5    11     0    11\n",
    "\n",
    "1st column as a Series:\n",
    "0     1\n",
    "1     2\n",
    "2     3\n",
    "3     4\n",
    "4     7\n",
    "5    11\n",
    "Name: col1, dtype: int64\n",
    "<class 'pandas.core.series.Series'>"
   ]
  },
  {
   "cell_type": "code",
   "execution_count": 36,
   "id": "eeaacc00-8e75-4213-badc-6710a73315c8",
   "metadata": {},
   "outputs": [
    {
     "data": {
      "text/html": [
       "<div>\n",
       "<style scoped>\n",
       "    .dataframe tbody tr th:only-of-type {\n",
       "        vertical-align: middle;\n",
       "    }\n",
       "\n",
       "    .dataframe tbody tr th {\n",
       "        vertical-align: top;\n",
       "    }\n",
       "\n",
       "    .dataframe thead th {\n",
       "        text-align: right;\n",
       "    }\n",
       "</style>\n",
       "<table border=\"1\" class=\"dataframe\">\n",
       "  <thead>\n",
       "    <tr style=\"text-align: right;\">\n",
       "      <th></th>\n",
       "      <th>col1</th>\n",
       "      <th>col2</th>\n",
       "      <th>col3</th>\n",
       "    </tr>\n",
       "  </thead>\n",
       "  <tbody>\n",
       "    <tr>\n",
       "      <th>0</th>\n",
       "      <td>1</td>\n",
       "      <td>4</td>\n",
       "      <td>7</td>\n",
       "    </tr>\n",
       "    <tr>\n",
       "      <th>1</th>\n",
       "      <td>2</td>\n",
       "      <td>5</td>\n",
       "      <td>5</td>\n",
       "    </tr>\n",
       "    <tr>\n",
       "      <th>2</th>\n",
       "      <td>3</td>\n",
       "      <td>6</td>\n",
       "      <td>8</td>\n",
       "    </tr>\n",
       "    <tr>\n",
       "      <th>3</th>\n",
       "      <td>4</td>\n",
       "      <td>9</td>\n",
       "      <td>12</td>\n",
       "    </tr>\n",
       "    <tr>\n",
       "      <th>4</th>\n",
       "      <td>7</td>\n",
       "      <td>5</td>\n",
       "      <td>1</td>\n",
       "    </tr>\n",
       "    <tr>\n",
       "      <th>5</th>\n",
       "      <td>11</td>\n",
       "      <td>0</td>\n",
       "      <td>11</td>\n",
       "    </tr>\n",
       "  </tbody>\n",
       "</table>\n",
       "</div>"
      ],
      "text/plain": [
       "   col1  col2  col3\n",
       "0     1     4     7\n",
       "1     2     5     5\n",
       "2     3     6     8\n",
       "3     4     9    12\n",
       "4     7     5     1\n",
       "5    11     0    11"
      ]
     },
     "execution_count": 36,
     "metadata": {},
     "output_type": "execute_result"
    }
   ],
   "source": [
    "# Create the DataFrame\n",
    "data = {\n",
    "    'col1': [1, 2, 3, 4, 7, 11],\n",
    "    'col2': [4, 5, 6, 9, 5, 0],\n",
    "    'col3': [7, 5, 8, 12, 1, 11]\n",
    "}\n",
    "\n",
    "df = pd.DataFrame(data)\n",
    "\n",
    "df"
   ]
  },
  {
   "cell_type": "code",
   "execution_count": 48,
   "id": "89b8ebeb-18d0-413b-854a-566f1f6edeaf",
   "metadata": {},
   "outputs": [
    {
     "data": {
      "text/plain": [
       "pandas.core.series.Series"
      ]
     },
     "execution_count": 48,
     "metadata": {},
     "output_type": "execute_result"
    }
   ],
   "source": [
    "type(df['col1'])"
   ]
  },
  {
   "cell_type": "code",
   "execution_count": 49,
   "id": "b93b713c-83ab-45b8-a7e5-33605a4b6fed",
   "metadata": {},
   "outputs": [
    {
     "data": {
      "text/plain": [
       "0     1\n",
       "1     2\n",
       "2     3\n",
       "3     4\n",
       "4     7\n",
       "5    11\n",
       "Name: col1, dtype: int64"
      ]
     },
     "execution_count": 49,
     "metadata": {},
     "output_type": "execute_result"
    }
   ],
   "source": [
    "df['col1']"
   ]
  },
  {
   "cell_type": "markdown",
   "id": "813db0d0-b492-4b7c-8596-6673f203b58c",
   "metadata": {},
   "source": [
    "#### 9. Write a Pandas program to convert a given Series to an array."
   ]
  },
  {
   "cell_type": "raw",
   "id": "d00aa73a-1ae9-4f0c-828e-d6d035814061",
   "metadata": {},
   "source": [
    "Sample Output: \n",
    "Original Data Series:\n",
    "0       100\n",
    "1       200\n",
    "2    python\n",
    "3    300.12\n",
    "4       400\n",
    "dtype: object\n",
    "Series to an array\n",
    "['100' '200' 'python' '300.12' '400']\n",
    "<class 'numpy.ndarray'>"
   ]
  },
  {
   "cell_type": "code",
   "execution_count": 50,
   "id": "6587c6b5-af48-47c0-9a24-516d4749ad58",
   "metadata": {},
   "outputs": [
    {
     "data": {
      "text/plain": [
       "0       100\n",
       "1       200\n",
       "2    python\n",
       "3    300.12\n",
       "4       400\n",
       "dtype: object"
      ]
     },
     "execution_count": 50,
     "metadata": {},
     "output_type": "execute_result"
    }
   ],
   "source": [
    "l = [100, 200, 'python', 300.12, 400]\n",
    "s = pd.Series(l)\n",
    "s"
   ]
  },
  {
   "cell_type": "code",
   "execution_count": 53,
   "id": "14785382-6ff8-47b9-b1c2-0c522579a74c",
   "metadata": {},
   "outputs": [
    {
     "data": {
      "text/plain": [
       "array([100, 200, 'python', 300.12, 400], dtype=object)"
      ]
     },
     "execution_count": 53,
     "metadata": {},
     "output_type": "execute_result"
    }
   ],
   "source": [
    "s.to_numpy()"
   ]
  },
  {
   "cell_type": "code",
   "execution_count": 54,
   "id": "ef8d0c4c-ac3b-4a09-b9d0-8c4861c865fe",
   "metadata": {},
   "outputs": [
    {
     "data": {
      "text/plain": [
       "numpy.ndarray"
      ]
     },
     "execution_count": 54,
     "metadata": {},
     "output_type": "execute_result"
    }
   ],
   "source": [
    "type(s.to_numpy())"
   ]
  },
  {
   "cell_type": "code",
   "execution_count": 56,
   "id": "f6de63d3-f3ff-43fc-897b-4bfda3e9c113",
   "metadata": {},
   "outputs": [
    {
     "data": {
      "text/plain": [
       "array([100, 200, 'python', 300.12, 400], dtype=object)"
      ]
     },
     "execution_count": 56,
     "metadata": {},
     "output_type": "execute_result"
    }
   ],
   "source": [
    "s.values"
   ]
  },
  {
   "cell_type": "markdown",
   "id": "a0304035-0cf1-41f1-94f8-f25e856ea771",
   "metadata": {},
   "source": [
    "#### 10. Write a Pandas program to convert Series of lists to one Series."
   ]
  },
  {
   "cell_type": "raw",
   "id": "aad6f6c5-84ed-47ad-951f-eb3841d37fb3",
   "metadata": {},
   "source": [
    "Sample Output: \n",
    "Original Series of list\n",
    "0    [Red, Green, White]\n",
    "1           [Red, Black]\n",
    "2               [Yellow]\n",
    "dtype: object\n",
    "One Series\n",
    "0       Red\n",
    "1     Green\n",
    "2     White\n",
    "3       Red\n",
    "4     Black\n",
    "5    Yellow\n",
    "dtype: object"
   ]
  },
  {
   "cell_type": "code",
   "execution_count": 58,
   "id": "b57c68b6-3bbc-4be9-bdd8-849417b90eeb",
   "metadata": {},
   "outputs": [
    {
     "data": {
      "text/plain": [
       "0    [Red, Green, White]\n",
       "1           [Red, Black]\n",
       "2               [Yellow]\n",
       "dtype: object"
      ]
     },
     "execution_count": 58,
     "metadata": {},
     "output_type": "execute_result"
    }
   ],
   "source": [
    "l = [['Red', 'Green', 'White'], \n",
    "     ['Red', 'Black'], \n",
    "     ['Yellow']]\n",
    "s = pd.Series(l)\n",
    "s"
   ]
  },
  {
   "cell_type": "code",
   "execution_count": 63,
   "id": "dcf86d35-0937-413c-bf88-28f3e6bad196",
   "metadata": {},
   "outputs": [
    {
     "data": {
      "text/plain": [
       "0       Red\n",
       "1     Green\n",
       "2     White\n",
       "3       Red\n",
       "4     Black\n",
       "5    Yellow\n",
       "dtype: object"
      ]
     },
     "execution_count": 63,
     "metadata": {},
     "output_type": "execute_result"
    }
   ],
   "source": [
    "pd.Series(s[0] + s[1] + s[2])"
   ]
  },
  {
   "cell_type": "code",
   "execution_count": 67,
   "id": "dad3eca4-14b0-44a6-9695-2fdbeb37a5af",
   "metadata": {},
   "outputs": [
    {
     "data": {
      "text/plain": [
       "0       Red\n",
       "1     Green\n",
       "2     White\n",
       "3       Red\n",
       "4     Black\n",
       "5    Yellow\n",
       "dtype: object"
      ]
     },
     "execution_count": 67,
     "metadata": {},
     "output_type": "execute_result"
    }
   ],
   "source": [
    "s.apply(pd.Series).stack().reset_index(drop=True)"
   ]
  },
  {
   "cell_type": "markdown",
   "id": "f057edb6-1aeb-4c21-bb3f-0ac6eef074cb",
   "metadata": {},
   "source": [
    "#### 11. Write a  Pandas program to sort a given Series.\n"
   ]
  },
  {
   "cell_type": "code",
   "execution_count": 84,
   "id": "a227cfa3-a76c-47f2-9f31-ca469a1646dc",
   "metadata": {},
   "outputs": [
    {
     "data": {
      "text/plain": [
       "<bound method Series.sort_values of 0       100\n",
       "1       200\n",
       "2    python\n",
       "3    300.12\n",
       "4       400\n",
       "dtype: object>"
      ]
     },
     "execution_count": 84,
     "metadata": {},
     "output_type": "execute_result"
    }
   ],
   "source": [
    "l = [100, 200, 'python', 300.12, 400]\n",
    "s = pd.Series(l)\n",
    "s.sort_values"
   ]
  },
  {
   "cell_type": "code",
   "execution_count": 91,
   "id": "055a3f68-c94a-4e5d-a82a-05b6a683f850",
   "metadata": {},
   "outputs": [
    {
     "data": {
      "text/plain": [
       "0       100\n",
       "1       200\n",
       "2    python\n",
       "3    300.12\n",
       "4       400\n",
       "dtype: object"
      ]
     },
     "execution_count": 91,
     "metadata": {},
     "output_type": "execute_result"
    }
   ],
   "source": [
    "s"
   ]
  },
  {
   "cell_type": "markdown",
   "id": "7e8f0659-5ecb-458b-ae05-f34944840aa3",
   "metadata": {},
   "source": [
    "#### 12. Write a Pandas program to add some data to an existing Series."
   ]
  },
  {
   "cell_type": "code",
   "execution_count": 116,
   "id": "6dd82cbc-8e46-4cce-9a94-3c468ef32444",
   "metadata": {},
   "outputs": [
    {
     "data": {
      "text/plain": [
       "0       100\n",
       "1       200\n",
       "2    python\n",
       "3    300.12\n",
       "4       400\n",
       "5       500\n",
       "6       php\n",
       "dtype: object"
      ]
     },
     "execution_count": 116,
     "metadata": {},
     "output_type": "execute_result"
    }
   ],
   "source": [
    "s[5] = 500\n",
    "s[6] = 'php'\n",
    "s"
   ]
  },
  {
   "cell_type": "code",
   "execution_count": 117,
   "id": "4040a629-67aa-4a31-ae14-163c237ecccb",
   "metadata": {},
   "outputs": [
    {
     "data": {
      "text/plain": [
       "0       100\n",
       "1       200\n",
       "2    python\n",
       "3    300.12\n",
       "4       400\n",
       "5       500\n",
       "6       php\n",
       "7       500\n",
       "8       php\n",
       "dtype: object"
      ]
     },
     "execution_count": 117,
     "metadata": {},
     "output_type": "execute_result"
    }
   ],
   "source": [
    "pd.concat([s, pd.Series([500, \"php\"])], ignore_index=True)"
   ]
  },
  {
   "cell_type": "markdown",
   "id": "a26aac32-1f76-4914-9950-c9273ac37781",
   "metadata": {},
   "source": [
    "#### 13. Write a  Pandas program to create a subset of a given series based on value and condition.\n"
   ]
  },
  {
   "cell_type": "code",
   "execution_count": 120,
   "id": "eeb74338-959c-4622-aab0-d2f1a84d3fc3",
   "metadata": {},
   "outputs": [
    {
     "data": {
      "text/plain": [
       "0      0\n",
       "1      1\n",
       "2      2\n",
       "3      3\n",
       "4      4\n",
       "5      5\n",
       "6      6\n",
       "7      7\n",
       "8      8\n",
       "9      9\n",
       "10    10\n",
       "dtype: int64"
      ]
     },
     "execution_count": 120,
     "metadata": {},
     "output_type": "execute_result"
    }
   ],
   "source": [
    "l = range(11)\n",
    "s = pd.Series(l)\n",
    "s"
   ]
  },
  {
   "cell_type": "code",
   "execution_count": 121,
   "id": "3483b18e-8cc2-45c8-9b0a-be73661c099b",
   "metadata": {},
   "outputs": [
    {
     "data": {
      "text/plain": [
       "0    0\n",
       "1    1\n",
       "2    2\n",
       "3    3\n",
       "4    4\n",
       "5    5\n",
       "dtype: int64"
      ]
     },
     "execution_count": 121,
     "metadata": {},
     "output_type": "execute_result"
    }
   ],
   "source": [
    "s[s<6]"
   ]
  },
  {
   "cell_type": "markdown",
   "id": "5b50d1de-3225-4a45-a31b-32f2618115c5",
   "metadata": {},
   "source": [
    "#### 14. Write a Pandas program to change the order of index of a given series.\n"
   ]
  },
  {
   "cell_type": "code",
   "execution_count": 132,
   "id": "0f1f061d-8c9d-474e-8cba-b2e8492dd3a9",
   "metadata": {},
   "outputs": [
    {
     "data": {
      "text/plain": [
       "A     1\n",
       "B     2\n",
       "C     3\n",
       "D     4\n",
       "E     7\n",
       "F    11\n",
       "dtype: int64"
      ]
     },
     "execution_count": 132,
     "metadata": {},
     "output_type": "execute_result"
    }
   ],
   "source": [
    "l = [1, 2, 3, 4, 7, 11]\n",
    "s = pd.Series(l, index=[chr(i) for i in range(65, 71)])\n",
    "s"
   ]
  },
  {
   "cell_type": "code",
   "execution_count": 135,
   "id": "c5bb18bd-dd9f-4f64-a8eb-4893c0969d53",
   "metadata": {},
   "outputs": [
    {
     "data": {
      "text/plain": [
       "B     2\n",
       "A     1\n",
       "C     3\n",
       "D     4\n",
       "F    11\n",
       "E     7\n",
       "dtype: int64"
      ]
     },
     "execution_count": 135,
     "metadata": {},
     "output_type": "execute_result"
    }
   ],
   "source": [
    "s.reindex(['B', 'A', 'C', 'D', 'F', 'E'])"
   ]
  },
  {
   "cell_type": "markdown",
   "id": "49104b86-9c0a-4911-8fc1-8f24f8ddb7a4",
   "metadata": {},
   "source": [
    "#### 15. Write a Pandas program to create the mean and standard deviation of the data of a given Series.\n"
   ]
  },
  {
   "cell_type": "code",
   "execution_count": 136,
   "id": "c7ce838c-c94d-4636-b632-1b39b6ed7b71",
   "metadata": {},
   "outputs": [
    {
     "data": {
      "text/plain": [
       "4.666666666666667"
      ]
     },
     "execution_count": 136,
     "metadata": {},
     "output_type": "execute_result"
    }
   ],
   "source": [
    "# Mean\n",
    "s.mean()"
   ]
  },
  {
   "cell_type": "code",
   "execution_count": 137,
   "id": "cb424ae5-3f25-4f76-9cf5-a4de55d2e529",
   "metadata": {},
   "outputs": [
    {
     "data": {
      "text/plain": [
       "3.723797345005051"
      ]
     },
     "execution_count": 137,
     "metadata": {},
     "output_type": "execute_result"
    }
   ],
   "source": [
    "# Std Dev\n",
    "s.std()"
   ]
  },
  {
   "cell_type": "markdown",
   "id": "1580b31b-c8b4-4c1e-aa46-8724e2013ca1",
   "metadata": {},
   "source": [
    "#### 16. Write a  Pandas program to get the items of a given series not present in another given series."
   ]
  },
  {
   "cell_type": "raw",
   "id": "9d149faa-1507-4293-b5ab-0c7f503142cb",
   "metadata": {},
   "source": [
    "Sample Output:  \n",
    "Original Series:\n",
    "sr1:\n",
    "0    1\n",
    "1    2\n",
    "2    3\n",
    "3    4\n",
    "4    5\n",
    "dtype: int64\n",
    "sr2:\n",
    "0     2\n",
    "1     4\n",
    "2     6\n",
    "3     8\n",
    "4    10\n",
    "dtype: int64\n",
    "\n",
    "Items of sr1 not present in sr2:\n",
    "0    1\n",
    "2    3\n",
    "4    5\n",
    "dtype: int64"
   ]
  },
  {
   "cell_type": "code",
   "execution_count": 139,
   "id": "edbd22db-2342-49aa-a6c7-d69f3534ce0d",
   "metadata": {},
   "outputs": [
    {
     "data": {
      "text/plain": [
       "0    1\n",
       "1    2\n",
       "2    3\n",
       "3    4\n",
       "4    5\n",
       "dtype: int64"
      ]
     },
     "metadata": {},
     "output_type": "display_data"
    },
    {
     "data": {
      "text/plain": [
       "0     2\n",
       "1     4\n",
       "2     6\n",
       "3     8\n",
       "4    10\n",
       "dtype: int64"
      ]
     },
     "metadata": {},
     "output_type": "display_data"
    }
   ],
   "source": [
    "# Create the first Series\n",
    "sr1 = pd.Series([1, 2, 3, 4, 5])\n",
    "\n",
    "# Create the second Series\n",
    "sr2 = pd.Series([2, 4, 6, 8, 10])\n",
    "\n",
    "display(sr1, sr2)"
   ]
  },
  {
   "cell_type": "code",
   "execution_count": 141,
   "id": "724db33f-7f31-406d-9b72-c951b429720e",
   "metadata": {},
   "outputs": [
    {
     "data": {
      "text/plain": [
       "0    1\n",
       "2    3\n",
       "4    5\n",
       "dtype: int64"
      ]
     },
     "execution_count": 141,
     "metadata": {},
     "output_type": "execute_result"
    }
   ],
   "source": [
    "sr1[~sr1.isin(sr2)]"
   ]
  },
  {
   "cell_type": "markdown",
   "id": "f955fa7b-5d8e-4241-8699-d5e9c465e1d4",
   "metadata": {},
   "source": [
    "#### 17. Write a  Pandas program to get the items which are not common of two given series."
   ]
  },
  {
   "cell_type": "code",
   "execution_count": 153,
   "id": "2e32b8f3-e20e-4d70-a981-9106b2fb52ea",
   "metadata": {},
   "outputs": [
    {
     "data": {
      "text/plain": [
       "0     1\n",
       "2     3\n",
       "4     5\n",
       "2     6\n",
       "3     8\n",
       "4    10\n",
       "dtype: int64"
      ]
     },
     "execution_count": 153,
     "metadata": {},
     "output_type": "execute_result"
    }
   ],
   "source": [
    "cond_1 = (~sr1.isin(sr2))\n",
    "cond_2 = (~sr2.isin(sr1))\n",
    "\n",
    "pd.concat([sr1[cond_1], sr2[cond_2]])"
   ]
  },
  {
   "cell_type": "code",
   "execution_count": 155,
   "id": "923ccc32-ea4b-4233-b73d-662612929803",
   "metadata": {},
   "outputs": [
    {
     "data": {
      "text/plain": [
       "0     1\n",
       "1     2\n",
       "2     3\n",
       "3     4\n",
       "4     5\n",
       "5     6\n",
       "6     8\n",
       "7    10\n",
       "dtype: int64"
      ]
     },
     "execution_count": 155,
     "metadata": {},
     "output_type": "execute_result"
    }
   ],
   "source": [
    "pd.Series(np.union1d(sr1, sr2))"
   ]
  },
  {
   "cell_type": "markdown",
   "id": "0488c749-18fc-4914-947f-6e10ad303cbd",
   "metadata": {},
   "source": [
    "#### 18. Write a Pandas program to compute the minimum, 25th percentile, median, 75th, and maximum of a given series."
   ]
  },
  {
   "cell_type": "raw",
   "id": "17dd2371-c0b7-442e-9bf4-d4a3dd524245",
   "metadata": {},
   "source": [
    "Sample Output:\n",
    "Original Series:\n",
    "0      3.000938\n",
    "1     11.370722\n",
    "2     14.612143\n",
    "\n",
    "....\n",
    "\n",
    "17    14.118931\n",
    "18     8.247458\n",
    "19     5.526727\n",
    "dtype: float64\n",
    "\n",
    "Minimum, 25th percentile, median, 75th, and maximum of a given series:\n",
    "[ 3.00093811  8.09463867 10.23353705 12.21537733 14.61214321]"
   ]
  },
  {
   "cell_type": "code",
   "execution_count": 1,
   "id": "1b1ddb71-a6ae-48c7-8262-6715317f128a",
   "metadata": {},
   "outputs": [
    {
     "name": "stdout",
     "output_type": "stream",
     "text": [
      "Intel MKL WARNING: Support of Intel(R) Streaming SIMD Extensions 4.2 (Intel(R) SSE4.2) enabled only processors has been deprecated. Intel oneAPI Math Kernel Library 2025.0 will require Intel(R) Advanced Vector Extensions (Intel(R) AVX) instructions.\n",
      "Intel MKL WARNING: Support of Intel(R) Streaming SIMD Extensions 4.2 (Intel(R) SSE4.2) enabled only processors has been deprecated. Intel oneAPI Math Kernel Library 2025.0 will require Intel(R) Advanced Vector Extensions (Intel(R) AVX) instructions.\n"
     ]
    }
   ],
   "source": [
    "import numpy as np\n",
    "import pandas as pd"
   ]
  },
  {
   "cell_type": "code",
   "execution_count": 5,
   "id": "f5d574e9-4e82-4903-9618-decd1ce894d5",
   "metadata": {},
   "outputs": [
    {
     "data": {
      "text/plain": [
       "count    20.000000\n",
       "mean      8.750000\n",
       "std       5.533391\n",
       "min       1.000000\n",
       "25%       4.000000\n",
       "50%       9.500000\n",
       "75%      12.250000\n",
       "max      18.000000\n",
       "dtype: float64"
      ]
     },
     "execution_count": 5,
     "metadata": {},
     "output_type": "execute_result"
    }
   ],
   "source": [
    "l = np.random.randint(1,20, 20)\n",
    "s = pd.Series(l)\n",
    "s.describe()"
   ]
  },
  {
   "cell_type": "code",
   "execution_count": 14,
   "id": "5cd922b9-fae1-413f-a104-a28935726083",
   "metadata": {},
   "outputs": [
    {
     "data": {
      "text/plain": [
       "min        1.00\n",
       "mean       8.75\n",
       "median     9.50\n",
       "max       18.00\n",
       "dtype: float64"
      ]
     },
     "execution_count": 14,
     "metadata": {},
     "output_type": "execute_result"
    }
   ],
   "source": [
    "s.aggregate(['min','mean', 'median', 'max'])"
   ]
  },
  {
   "cell_type": "markdown",
   "id": "0fc7e28f-ceb8-4006-ae4c-4683fca10f9d",
   "metadata": {},
   "source": [
    "#### 19. Write a Pandas program to calculate the frequency counts of each unique value of a given series."
   ]
  },
  {
   "cell_type": "code",
   "execution_count": 16,
   "id": "43317d10-3d79-4b49-b47a-faf5bdb0e40a",
   "metadata": {},
   "outputs": [
    {
     "data": {
      "text/plain": [
       "12    3\n",
       "1     3\n",
       "6     2\n",
       "4     2\n",
       "18    2\n",
       "15    1\n",
       "3     1\n",
       "14    1\n",
       "9     1\n",
       "11    1\n",
       "13    1\n",
       "10    1\n",
       "5     1\n",
       "Name: count, dtype: int64"
      ]
     },
     "execution_count": 16,
     "metadata": {},
     "output_type": "execute_result"
    }
   ],
   "source": [
    "s.value_counts()"
   ]
  },
  {
   "cell_type": "markdown",
   "id": "4c4d29f8-d62a-4332-b934-fcb84ed18e5d",
   "metadata": {},
   "source": [
    "#### 20. Write a Pandas program to display most frequent value in a given series and replace everything else as 'Other' in the series."
   ]
  },
  {
   "cell_type": "raw",
   "id": "7d6d7c5f-5cb4-4f52-8770-e6a86ed40126",
   "metadata": {},
   "source": [
    "Sample Output:\n",
    "Original Series:\n",
    "0     3\n",
    "1     1\n",
    "2     1\n",
    "3     3\n",
    "...\n",
    "12    2\n",
    "13    3\n",
    "14    3\n",
    "dtype: int64\n",
    "Top 2 Freq: \n",
    "2    6\n",
    "3    5\n",
    "1    4\n",
    "dtype: int64\n",
    "0     Other\n",
    "1     Other\n",
    "2     Other\n",
    "3     Other\n",
    "...\n",
    "11        2\n",
    "12        2\n",
    "13    Other\n",
    "14    Other\n",
    "dtype: object"
   ]
  },
  {
   "cell_type": "code",
   "execution_count": 25,
   "id": "518b6918-32a5-495b-8380-7f453c156405",
   "metadata": {},
   "outputs": [
    {
     "data": {
      "text/plain": [
       "0     other\n",
       "1     other\n",
       "2     other\n",
       "3        12\n",
       "4     other\n",
       "5         6\n",
       "6     other\n",
       "7         4\n",
       "8        12\n",
       "9         1\n",
       "10    other\n",
       "11       18\n",
       "12        4\n",
       "13        1\n",
       "14        1\n",
       "15    other\n",
       "16        6\n",
       "17       18\n",
       "18       12\n",
       "19    other\n",
       "dtype: object"
      ]
     },
     "execution_count": 25,
     "metadata": {},
     "output_type": "execute_result"
    }
   ],
   "source": [
    "most_frequent_no = s.value_counts().to_dict()\n",
    "most_frequent_no = [k for k,v in most_frequent_no.items() if v>1]\n",
    "s.apply(lambda x: 'other' if x not in most_frequent_no else x)"
   ]
  },
  {
   "cell_type": "markdown",
   "id": "d949f294-10f8-449e-a2e0-6018bb398eaa",
   "metadata": {},
   "source": [
    "21. Write a Pandas program to find the positions of numbers that are multiples of 5 of a given series.\n",
    "    "
   ]
  },
  {
   "cell_type": "raw",
   "id": "dd4d9a25-89fb-48b9-a3f1-702cc39555a4",
   "metadata": {},
   "source": [
    "Sample Output:\n",
    "Original Series:\n",
    "0 1\n",
    "1 9\n",
    "2 8\n",
    "3 6\n",
    "4 9\n",
    "5 7\n",
    "6 1\n",
    "7 1\n",
    "8 1\n",
    "dtype: int64\n",
    "Positions of numbers that are multiples of 5:\n",
    "[]"
   ]
  },
  {
   "cell_type": "code",
   "execution_count": 31,
   "id": "00bbb508-6497-491d-9dec-02aea040a01e",
   "metadata": {},
   "outputs": [
    {
     "data": {
      "text/plain": [
       "[0, 15, 19]"
      ]
     },
     "execution_count": 31,
     "metadata": {},
     "output_type": "execute_result"
    }
   ],
   "source": [
    "s[s%5==0].index.to_list()"
   ]
  },
  {
   "cell_type": "markdown",
   "id": "9c6f7bea-49a4-4637-8b8b-ee61a4bda90e",
   "metadata": {},
   "source": [
    "#### 22. Write a Pandas program to extract items at given positions of a given series."
   ]
  },
  {
   "cell_type": "raw",
   "id": "1cb27756-996e-4f4b-a2e7-fc9726c500ae",
   "metadata": {},
   "source": [
    "Sample Output:  \n",
    "Original Series:\n",
    "0     2\n",
    "1     3\n",
    "2     9\n",
    "3     0\n",
    "4     2\n",
    "5     3\n",
    "...\n",
    "\n",
    "19    0\n",
    "20    2 \n",
    "21    3\n",
    "dtype: object\n",
    "\n",
    "Extract items at given positions of the said series: \n",
    "0     2\n",
    "2     9\n",
    "6     8\n",
    "11    0\n",
    "21    3\n",
    "dtype: object"
   ]
  },
  {
   "cell_type": "code",
   "execution_count": 45,
   "id": "2a0ec241-8013-4639-a667-dc8f867531aa",
   "metadata": {},
   "outputs": [
    {
     "data": {
      "text/plain": [
       "0     15\n",
       "2     14\n",
       "6     11\n",
       "11    18\n",
       "dtype: int64"
      ]
     },
     "execution_count": 45,
     "metadata": {},
     "output_type": "execute_result"
    }
   ],
   "source": [
    "s[s.index.isin([0,2,6,11,21])]"
   ]
  },
  {
   "cell_type": "markdown",
   "id": "ed136d0f-0cbd-4eac-8224-e837db509a74",
   "metadata": {},
   "source": [
    "#### 23. Write a Pandas program to get the positions of items of a given series in another given series."
   ]
  },
  {
   "cell_type": "raw",
   "id": "8a96aec6-5785-4fee-b001-afc5ac462e95",
   "metadata": {},
   "source": [
    "Sample Output:  \n",
    "Original Series:\n",
    "0     1\n",
    "1     2\n",
    "2     3\n",
    "3     4\n",
    "4     5\n",
    "5     6\n",
    "6     7\n",
    "7     8\n",
    "8     9\n",
    "9    10\n",
    "dtype: int64\n",
    "0     1\n",
    "1     3\n",
    "2     5\n",
    "3     7\n",
    "4    10\n",
    "dtype: int64\n",
    "Positions of items of series2 in series1:\n",
    "[0, 2, 4, 6, 9]"
   ]
  },
  {
   "cell_type": "code",
   "execution_count": 50,
   "id": "23a01312-4fa4-4111-b2cc-6aea165fb295",
   "metadata": {},
   "outputs": [
    {
     "data": {
      "text/plain": [
       "[1, 9, 13, 14, 15, 19]"
      ]
     },
     "execution_count": 50,
     "metadata": {},
     "output_type": "execute_result"
    }
   ],
   "source": [
    "indexes = s[s.isin([1,3,5,7,10])].index.to_list()\n",
    "indexes"
   ]
  },
  {
   "cell_type": "code",
   "execution_count": 52,
   "id": "c3d1d3b1-7685-421f-92bc-cb95f56ed1fe",
   "metadata": {},
   "outputs": [
    {
     "data": {
      "text/plain": [
       "1      3\n",
       "9      1\n",
       "13     1\n",
       "14     1\n",
       "15    10\n",
       "19     5\n",
       "dtype: int64"
      ]
     },
     "execution_count": 52,
     "metadata": {},
     "output_type": "execute_result"
    }
   ],
   "source": [
    "s[s.index.isin(indexes)]"
   ]
  },
  {
   "cell_type": "markdown",
   "id": "4c9a26ff-65fb-4abb-811a-c980cbe2ad68",
   "metadata": {},
   "source": [
    "#### 24. Write a  Pandas program convert the first and last character of each word to upper case in each word of a given series."
   ]
  },
  {
   "cell_type": "raw",
   "id": "55614ff6-e204-4b35-8049-c23f84035734",
   "metadata": {},
   "source": [
    "Sample Output:\n",
    "Original Series:\n",
    "0       php\n",
    "1    python\n",
    "2      java\n",
    "3        c#\n",
    "dtype: object\n",
    "\n",
    "First and last character of each word to upper case:\n",
    "0       PhP\n",
    "1    PythoN\n",
    "2      JavA\n",
    "3        C#\n",
    "dtype: object"
   ]
  },
  {
   "cell_type": "code",
   "execution_count": 53,
   "id": "d9553b90-f8a9-44d3-8261-9f54f2ffeba6",
   "metadata": {},
   "outputs": [
    {
     "data": {
      "text/plain": [
       "0       php\n",
       "1    python\n",
       "2      java\n",
       "3        c#\n",
       "dtype: object"
      ]
     },
     "execution_count": 53,
     "metadata": {},
     "output_type": "execute_result"
    }
   ],
   "source": [
    "l = ['php', 'python', 'java', 'c#']\n",
    "s = pd.Series(l)\n",
    "s"
   ]
  },
  {
   "cell_type": "code",
   "execution_count": 58,
   "id": "833fe9b7-51b4-4b7b-9c2c-84792c947e99",
   "metadata": {},
   "outputs": [
    {
     "data": {
      "text/plain": [
       "0       PhP\n",
       "1    PythoN\n",
       "2      JavA\n",
       "3        C#\n",
       "dtype: object"
      ]
     },
     "execution_count": 58,
     "metadata": {},
     "output_type": "execute_result"
    }
   ],
   "source": [
    "s.apply(lambda x: x[0].upper() + x[1:len(x)-1] + x[-1].upper())"
   ]
  },
  {
   "cell_type": "markdown",
   "id": "a25ac563-9c2d-4ba1-893c-120bc4b9b211",
   "metadata": {},
   "source": [
    "#### 25. Write a Pandas program to calculate the number of characters in each word in a given series.\n"
   ]
  },
  {
   "cell_type": "raw",
   "id": "2adacbf8-0d3e-4a68-aa9f-2c58fe479d04",
   "metadata": {},
   "source": [
    "Sample Output: \n",
    "Original Series:\n",
    "0       Php\n",
    "1    Python\n",
    "2      Java\n",
    "3        C#\n",
    "dtype: object\n",
    "\n",
    "Number of characters in each word in the said series:\n",
    "0    3\n",
    "1    6\n",
    "2    4\n",
    "3    2\n",
    "dtype: int64"
   ]
  },
  {
   "cell_type": "code",
   "execution_count": 60,
   "id": "5bfab7b6-f688-4d74-9594-49d6f3359640",
   "metadata": {},
   "outputs": [
    {
     "data": {
      "text/plain": [
       "0    3\n",
       "1    6\n",
       "2    4\n",
       "3    2\n",
       "dtype: int64"
      ]
     },
     "execution_count": 60,
     "metadata": {},
     "output_type": "execute_result"
    }
   ],
   "source": [
    "s.apply(lambda x: len(x))"
   ]
  },
  {
   "cell_type": "markdown",
   "id": "ee433c27-3829-4ce4-a090-ec50bda51b84",
   "metadata": {},
   "source": [
    "#### 26. Write a Pandas program to compute difference of differences between consecutive numbers of a given series."
   ]
  },
  {
   "cell_type": "raw",
   "id": "66bbfd7b-8934-4262-875e-c862ebe876aa",
   "metadata": {},
   "source": [
    "Sample Output:\n",
    "Original Series:\n",
    "0     1\n",
    "1     3\n",
    "2     5\n",
    "3     8\n",
    "4    10\n",
    "5    11\n",
    "6    15\n",
    "dtype: int64\n",
    "\n",
    "Difference of differences between consecutive numbers of the said series:\n",
    "[nan, 2.0, 2.0, 3.0, 2.0, 1.0, 4.0]\n",
    "[nan, nan, 0.0, 1.0, -1.0, -1.0, 3.0]"
   ]
  },
  {
   "cell_type": "code",
   "execution_count": 61,
   "id": "1373b27a-b7f4-4159-b318-30c273d29621",
   "metadata": {},
   "outputs": [
    {
     "data": {
      "text/plain": [
       "0     1\n",
       "1     3\n",
       "2     5\n",
       "3     8\n",
       "4    10\n",
       "5    11\n",
       "6    15\n",
       "dtype: int64"
      ]
     },
     "execution_count": 61,
     "metadata": {},
     "output_type": "execute_result"
    }
   ],
   "source": [
    "l = [1, 3, 5, 8, 10, 11, 15]\n",
    "s = pd.Series(l)\n",
    "s"
   ]
  },
  {
   "cell_type": "code",
   "execution_count": 63,
   "id": "889169e0-1ed9-4933-a1a3-0eaacb2ec2e2",
   "metadata": {},
   "outputs": [
    {
     "data": {
      "text/plain": [
       "[nan, 2.0, 2.0, 3.0, 2.0, 1.0, 4.0]"
      ]
     },
     "execution_count": 63,
     "metadata": {},
     "output_type": "execute_result"
    }
   ],
   "source": [
    "s.diff(1).to_list()"
   ]
  },
  {
   "cell_type": "code",
   "execution_count": 64,
   "id": "c3d416d0-bda5-41ce-b4a4-fc373f0756be",
   "metadata": {},
   "outputs": [
    {
     "data": {
      "text/plain": [
       "[nan, nan, 0.0, 1.0, -1.0, -1.0, 3.0]"
      ]
     },
     "execution_count": 64,
     "metadata": {},
     "output_type": "execute_result"
    }
   ],
   "source": [
    "s.diff(1).diff(1).to_list()"
   ]
  },
  {
   "cell_type": "markdown",
   "id": "dcd50bd4-3a93-4401-baad-a715788249d6",
   "metadata": {},
   "source": [
    "#### 27. Write a Pandas program to convert a series of date strings to a timeseries.\n"
   ]
  },
  {
   "cell_type": "raw",
   "id": "d2e31929-c3b7-4fea-a19c-4858c6184531",
   "metadata": {},
   "source": [
    "Sample Output:\n",
    "Original Series:\n",
    "0         01 Jan 2015\n",
    "1          10-02-2016\n",
    "2            20180307\n",
    "3          2014/05/06\n",
    "4          2016-04-12\n",
    "5    2019-04-06T11:20\n",
    "dtype: object\n",
    "\n",
    "Series of date strings to a timeseries:\n",
    "0   2015-01-01 00:00:00\n",
    "1   2016-10-02 00:00:00\n",
    "2   2018-03-07 00:00:00\n",
    "3   2014-05-06 00:00:00\n",
    "4   2016-04-12 00:00:00\n",
    "5   2019-04-06 11:20:00\n",
    "dtype: datetime64[ns]"
   ]
  },
  {
   "cell_type": "code",
   "execution_count": 18,
   "id": "dc496057-df8a-4583-98f3-51c779edcf6f",
   "metadata": {},
   "outputs": [
    {
     "data": {
      "text/plain": [
       "0         01 Jan 2015\n",
       "1          10-02-2016\n",
       "2            20180307\n",
       "3          2014/05/06\n",
       "4          2016-04-12\n",
       "5    2019-04-06T11:20\n",
       "dtype: object"
      ]
     },
     "execution_count": 18,
     "metadata": {},
     "output_type": "execute_result"
    }
   ],
   "source": [
    "l =[ '01 Jan 2015','10-02-2016','20180307','2014/05/06','2016-04-12', '2019-04-06T11:20']\n",
    "s = pd.Series(l)\n",
    "s"
   ]
  },
  {
   "cell_type": "code",
   "execution_count": 19,
   "id": "0972c41a-c004-4dd9-9c38-6eb7ba66df74",
   "metadata": {},
   "outputs": [
    {
     "data": {
      "text/plain": [
       "0   2015-01-01 00:00:00\n",
       "1   2016-10-02 00:00:00\n",
       "2   2018-03-07 00:00:00\n",
       "3   2014-05-06 00:00:00\n",
       "4   2016-04-12 00:00:00\n",
       "5   2019-04-06 11:20:00\n",
       "dtype: datetime64[ns]"
      ]
     },
     "execution_count": 19,
     "metadata": {},
     "output_type": "execute_result"
    }
   ],
   "source": [
    "s.apply(lambda x: pd.to_datetime(x))"
   ]
  },
  {
   "cell_type": "markdown",
   "id": "ed72ad55-c9f1-4f0f-9346-22323ba8f9b6",
   "metadata": {},
   "source": [
    "#### 28. Write a Pandas program to get the day of month, day of year, week number and day of week from a given series of date strings.\n"
   ]
  },
  {
   "cell_type": "raw",
   "id": "34816b1d-5d39-4fd1-963f-4ba3ebe6aede",
   "metadata": {},
   "source": [
    "Sample Output: \n",
    "Original Series:\n",
    "0         01 Jan 2015\n",
    "1          10-02-2016\n",
    "2            20180307\n",
    "3          2014/05/06\n",
    "4          2016-04-12\n",
    "5    2019-04-06T11:20\n",
    "dtype: object\n",
    "Day of month:\n",
    "[1, 2, 7, 6, 12, 6]\n",
    "Day of year:\n",
    "[1, 276, 66, 126, 103, 96]\n",
    "Week number:\n",
    "[1, 39, 10, 19, 15, 14]\n",
    "Day of week:\n",
    "['Thursday', 'Sunday', 'Wednesday', 'Tuesday', 'Tuesday', 'Saturday']"
   ]
  },
  {
   "cell_type": "code",
   "execution_count": 20,
   "id": "41886906-f0da-4da8-933a-f82c5cc7edd1",
   "metadata": {},
   "outputs": [],
   "source": [
    "from dateutil.parser import parse"
   ]
  },
  {
   "cell_type": "code",
   "execution_count": 21,
   "id": "6af1fd4e-5242-43a6-b650-10b5bb8751ca",
   "metadata": {},
   "outputs": [
    {
     "data": {
      "text/plain": [
       "0   2015-01-01 00:00:00\n",
       "1   2016-10-02 00:00:00\n",
       "2   2018-03-07 00:00:00\n",
       "3   2014-05-06 00:00:00\n",
       "4   2016-04-12 00:00:00\n",
       "5   2019-04-06 11:20:00\n",
       "dtype: datetime64[ns]"
      ]
     },
     "execution_count": 21,
     "metadata": {},
     "output_type": "execute_result"
    }
   ],
   "source": [
    "s = s.apply(lambda x: parse(x))\n",
    "s"
   ]
  },
  {
   "cell_type": "code",
   "execution_count": 22,
   "id": "0716f739-d377-4669-b331-4edc50661f0b",
   "metadata": {},
   "outputs": [
    {
     "data": {
      "text/plain": [
       "[1, 2, 7, 6, 12, 6]"
      ]
     },
     "execution_count": 22,
     "metadata": {},
     "output_type": "execute_result"
    }
   ],
   "source": [
    "s.dt.day.to_list() # Day of month"
   ]
  },
  {
   "cell_type": "code",
   "execution_count": 23,
   "id": "bb2ff306-5e82-43ad-902a-4b8e2f1e8de9",
   "metadata": {},
   "outputs": [
    {
     "data": {
      "text/plain": [
       "[1, 276, 66, 126, 103, 96]"
      ]
     },
     "execution_count": 23,
     "metadata": {},
     "output_type": "execute_result"
    }
   ],
   "source": [
    "# Day of year:\n",
    "s.dt.day_of_year.to_list()"
   ]
  },
  {
   "cell_type": "code",
   "execution_count": 47,
   "id": "7f0541cb-367b-4ba3-b36f-4e4c19fb7497",
   "metadata": {},
   "outputs": [
    {
     "data": {
      "text/plain": [
       "0     Thursday\n",
       "1       Sunday\n",
       "2    Wednesday\n",
       "3      Tuesday\n",
       "4      Tuesday\n",
       "5     Saturday\n",
       "dtype: object"
      ]
     },
     "execution_count": 47,
     "metadata": {},
     "output_type": "execute_result"
    }
   ],
   "source": [
    "# Week number\n",
    "s.dt.strftime('%A')"
   ]
  },
  {
   "cell_type": "markdown",
   "id": "5e9e8107-b846-425f-84cf-85581396b916",
   "metadata": {},
   "source": [
    "#### 29. Write a Pandas program to convert year-month string to dates adding a specified day of the month.\n"
   ]
  },
  {
   "cell_type": "raw",
   "id": "1f3de928-d73c-4b14-aac6-d8be9104804c",
   "metadata": {},
   "source": [
    "Sample Output:\n",
    "Original Series:\n",
    "0    Jan 2015\n",
    "1    Feb 2016\n",
    "2    Mar 2017\n",
    "3    Apr 2018\n",
    "4    May 2019\n",
    "dtype: object\n",
    "\n",
    "New dates:\n",
    "0   2015-01-11\n",
    "1   2016-02-11\n",
    "2   2017-03-11\n",
    "3   2018-04-11\n",
    "4   2019-05-11\n",
    "dtype: datetime64[ns]"
   ]
  },
  {
   "cell_type": "code",
   "execution_count": 48,
   "id": "dbc277df-d61d-4f79-8116-53909bab6430",
   "metadata": {},
   "outputs": [
    {
     "data": {
      "text/plain": [
       "0    Jan 2015\n",
       "1    Feb 2016\n",
       "2    Mar 2017\n",
       "3    Apr 2018\n",
       "4    May 2019\n",
       "dtype: object"
      ]
     },
     "execution_count": 48,
     "metadata": {},
     "output_type": "execute_result"
    }
   ],
   "source": [
    "l = [  'Jan 2015',\n",
    "    'Feb 2016',\n",
    "    'Mar 2017',\n",
    "    'Apr 2018',\n",
    "    'May 2019']\n",
    "s = pd.Series(l)\n",
    "s"
   ]
  },
  {
   "cell_type": "code",
   "execution_count": 49,
   "id": "fb56d175-a231-45eb-8620-accde8991eb2",
   "metadata": {},
   "outputs": [
    {
     "data": {
      "text/plain": [
       "0   2015-01-01\n",
       "1   2016-02-01\n",
       "2   2017-03-01\n",
       "3   2018-04-01\n",
       "4   2019-05-01\n",
       "dtype: datetime64[ns]"
      ]
     },
     "execution_count": 49,
     "metadata": {},
     "output_type": "execute_result"
    }
   ],
   "source": [
    "s = s.apply(lambda x: pd.to_datetime(x))\n",
    "s"
   ]
  },
  {
   "cell_type": "code",
   "execution_count": null,
   "id": "3610f0f2-2387-4950-9dc3-6b88f88b24b6",
   "metadata": {},
   "outputs": [],
   "source": [
    "def get_date(x):\n",
    "    return '11'"
   ]
  },
  {
   "cell_type": "code",
   "execution_count": 57,
   "id": "7cbe8d93-f44d-43fa-bff2-48781e3be888",
   "metadata": {},
   "outputs": [
    {
     "data": {
      "text/plain": [
       "0    2015-01-11\n",
       "1    2016-02-11\n",
       "2    2017-03-11\n",
       "3    2018-04-11\n",
       "4    2019-05-11\n",
       "dtype: object"
      ]
     },
     "execution_count": 57,
     "metadata": {},
     "output_type": "execute_result"
    }
   ],
   "source": [
    "s = s.dt.strftime('%Y-%m-11')\n",
    "s"
   ]
  },
  {
   "cell_type": "markdown",
   "id": "622b2ced-f12a-4063-8b8e-b8b75307eab2",
   "metadata": {},
   "source": [
    "#### 30. Write a Pandas program to filter words from a given series that contain atleast two vowels.\n"
   ]
  },
  {
   "cell_type": "raw",
   "id": "7dafc0f6-8cfc-49ae-9bed-c170750ede80",
   "metadata": {},
   "source": [
    "Sample Output: \n",
    "Original Series:\n",
    "0       Red\n",
    "1     Green\n",
    "2    Orange\n",
    "3      Pink\n",
    "4    Yellow\n",
    "5     White\n",
    "dtype: object\n",
    "\n",
    "Filtered words:\n",
    "1     Green\n",
    "2    Orange\n",
    "4    Yellow\n",
    "5     White\n",
    "dtype: object"
   ]
  },
  {
   "cell_type": "code",
   "execution_count": 59,
   "id": "ab1333fc-5086-4eac-a07d-d6425d56cf3a",
   "metadata": {},
   "outputs": [
    {
     "data": {
      "text/plain": [
       "['a', 'e', 'i', 'o', 'u', 'A', 'E', 'I', 'O', 'U']"
      ]
     },
     "execution_count": 59,
     "metadata": {},
     "output_type": "execute_result"
    }
   ],
   "source": [
    "vowels = 'aeiouAEIOU'\n",
    "vowels = list(vowels)\n",
    "vowels"
   ]
  },
  {
   "cell_type": "code",
   "execution_count": null,
   "id": "3b73335d-a6d7-4a50-9208-caa52cd868c5",
   "metadata": {},
   "outputs": [],
   "source": [
    "l = [   'Red',\n",
    "        'Green',\n",
    "        'Orange',\n",
    "        'Pink',\n",
    "        'Yellow',\n",
    "        'White'\n",
    "    ]\n",
    "s = pd.Series(l)\n",
    "s"
   ]
  },
  {
   "cell_type": "markdown",
   "id": "f8609ba4-d6f3-4078-82cb-032ccc354d44",
   "metadata": {},
   "source": [
    "#### 31. Write a Pandas program to compute the Euclidean distance between two given series."
   ]
  },
  {
   "cell_type": "raw",
   "id": "55301391-0c5d-430d-9079-89a6e7b0d1f6",
   "metadata": {},
   "source": [
    "Euclidean distance\n",
    "From Wikipedia,\n",
    "In mathematics, the Euclidean distance or Euclidean metric is the \"ordinary\" straight-line distance between two points in Euclidean space. With this distance, Euclidean space becomes a metric space. The associated norm is called the Euclidean norm."
   ]
  },
  {
   "cell_type": "raw",
   "id": "1d94bcb4-4d0d-40cd-ade9-69ed8ceee9c0",
   "metadata": {},
   "source": [
    "Sample Output:\n",
    "Original series:\n",
    "0     1\n",
    "1     2\n",
    "2     3\n",
    "3     4\n",
    "4     5\n",
    "5     6\n",
    "6     7\n",
    "7     8\n",
    "8     9\n",
    "9    10\n",
    "dtype: int64\n",
    "0    11\n",
    "1     8\n",
    "2     7\n",
    "3     5\n",
    "4     6\n",
    "5     5\n",
    "6     3\n",
    "7     4\n",
    "8     7\n",
    "9     1\n",
    "dtype: int64\n",
    "\n",
    "Euclidean distance between two said series:\n",
    "16.492422502470642"
   ]
  },
  {
   "cell_type": "code",
   "execution_count": 2,
   "id": "03fee221-7e8c-44b1-a511-79ebfd981e00",
   "metadata": {},
   "outputs": [
    {
     "name": "stdout",
     "output_type": "stream",
     "text": [
      "Intel MKL WARNING: Support of Intel(R) Streaming SIMD Extensions 4.2 (Intel(R) SSE4.2) enabled only processors has been deprecated. Intel oneAPI Math Kernel Library 2025.0 will require Intel(R) Advanced Vector Extensions (Intel(R) AVX) instructions.\n",
      "Intel MKL WARNING: Support of Intel(R) Streaming SIMD Extensions 4.2 (Intel(R) SSE4.2) enabled only processors has been deprecated. Intel oneAPI Math Kernel Library 2025.0 will require Intel(R) Advanced Vector Extensions (Intel(R) AVX) instructions.\n"
     ]
    }
   ],
   "source": [
    "import pandas as pd\n",
    "import numpy as np"
   ]
  },
  {
   "cell_type": "code",
   "execution_count": 7,
   "id": "41c9f70a-e6da-477b-820b-9d1b6d969401",
   "metadata": {},
   "outputs": [
    {
     "data": {
      "text/plain": [
       "16.492422502470642"
      ]
     },
     "execution_count": 7,
     "metadata": {},
     "output_type": "execute_result"
    }
   ],
   "source": [
    "l1 = list(range(1,11))\n",
    "l2 = [11, 8, 7, 5, 6, 5,3,4,7,1]\n",
    "s1 = pd.Series(l1)\n",
    "s2 = pd.Series(l2)\n",
    "np.linalg.norm(s1-s2)"
   ]
  },
  {
   "cell_type": "markdown",
   "id": "476e1e7f-a9c3-4d62-9047-3b3d9dce61ab",
   "metadata": {},
   "source": [
    "#### 32. Write a Pandas program to find the positions of the values neighboured by smaller values on both sides in a given series.\n"
   ]
  },
  {
   "cell_type": "raw",
   "id": "fd9ff3dd-5930-4e8c-a1a0-69db424476ac",
   "metadata": {},
   "source": [
    "Sample Output: \n",
    "Original series:\n",
    "0    1\n",
    "1    8\n",
    "2    7\n",
    "3    5\n",
    "4    6\n",
    "5    5\n",
    "6    3\n",
    "7    4\n",
    "8    7\n",
    "9    1\n",
    "dtype: int64\n",
    "\n",
    "Positions of the values surrounded by smaller values on both sides:\n",
    "[1 4 8]"
   ]
  },
  {
   "cell_type": "code",
   "execution_count": 4,
   "id": "1a4a7a77-0395-4480-82bd-ff0837aef3a8",
   "metadata": {},
   "outputs": [
    {
     "data": {
      "text/plain": [
       "0    1\n",
       "1    8\n",
       "2    7\n",
       "3    5\n",
       "4    6\n",
       "5    5\n",
       "6    3\n",
       "7    4\n",
       "8    7\n",
       "9    1\n",
       "dtype: int64"
      ]
     },
     "execution_count": 4,
     "metadata": {},
     "output_type": "execute_result"
    }
   ],
   "source": [
    "l = [1,8,7,5,6,5,3,4,7,1]\n",
    "s = pd.Series(l)\n",
    "s"
   ]
  },
  {
   "cell_type": "code",
   "execution_count": 10,
   "id": "bd91096a-e0ef-4b86-8154-b62a71946268",
   "metadata": {},
   "outputs": [
    {
     "name": "stdout",
     "output_type": "stream",
     "text": [
      "INDEX= 1 & VALUE= 8\n",
      "INDEX= 4 & VALUE= 6\n",
      "INDEX= 8 & VALUE= 7\n"
     ]
    }
   ],
   "source": [
    "for i in range(len(l)-2):\n",
    "    window = l[i:i+3]\n",
    "    if all([window[0]<window[1]>window[2]]):\n",
    "        print(f'INDEX= {i+1} & VALUE= {s[i+1]}')"
   ]
  },
  {
   "cell_type": "markdown",
   "id": "707f5d89-af0a-46e7-83f9-6363e6e2bae1",
   "metadata": {},
   "source": [
    "#### 33. Write a Pandas program to replace missing white spaces in a given string with the least frequent character.\n"
   ]
  },
  {
   "cell_type": "raw",
   "id": "c482eb89-bf2b-4ba2-859e-83095406a0af",
   "metadata": {},
   "source": [
    "Sample Output:\n",
    "Original series:\n",
    "abc def abcdef icd\n",
    "c    3\n",
    "d    3\n",
    "     3\n",
    "b    2\n",
    "e    2\n",
    "a    2\n",
    "f    2\n",
    "i    1\n",
    "dtype: int64\n",
    "abcidefiabcdefiicd"
   ]
  },
  {
   "cell_type": "code",
   "execution_count": 17,
   "id": "4e58a4a6-c597-49bb-904d-7788900af606",
   "metadata": {},
   "outputs": [
    {
     "data": {
      "text/plain": [
       "a    2\n",
       "b    2\n",
       "c    3\n",
       "     3\n",
       "d    3\n",
       "e    2\n",
       "f    2\n",
       "i    1\n",
       "dtype: int64"
      ]
     },
     "execution_count": 17,
     "metadata": {},
     "output_type": "execute_result"
    }
   ],
   "source": [
    "s = 'abc def abcdef icd'\n",
    "d = {k:s.count(k) for k in list(s)}\n",
    "s1 = pd.Series(data=d.values(), index=d.keys())\n",
    "s1"
   ]
  },
  {
   "cell_type": "markdown",
   "id": "5eab6409-b466-46ed-99a7-b748a6d677c7",
   "metadata": {},
   "source": [
    "#### 34. Write a Pandas program to compute the autocorrelations of a given numeric series."
   ]
  },
  {
   "cell_type": "raw",
   "id": "d3e6999e-881a-4fe7-94df-683a845b6286",
   "metadata": {},
   "source": [
    "From Wikipedia:\n",
    "Autocorrelation, also known as serial correlation, is the correlation of a signal with a delayed copy of itself as a function of delay. Informally, it is the similarity between observations as a function of the time lag between them."
   ]
  },
  {
   "cell_type": "raw",
   "id": "5f221def-be97-463d-acff-e6c3fafd5a56",
   "metadata": {},
   "source": [
    "Sample Output:\n",
    "Original series:\n",
    "0     13.207262\n",
    "1      4.098685\n",
    "2     -1.435534\n",
    "3     13.626760\n",
    "...\n",
    "13    -2.346193\n",
    "14    17.873884\n",
    "dtype: float64\n",
    "\n",
    "Autocorrelations of the said series:\n",
    "[-0.38, 0.1, -0.43, 0.03, 0.35, -0.2, 0.04, -0.59, 0.34, 0.11]"
   ]
  },
  {
   "cell_type": "code",
   "execution_count": 2,
   "id": "47baf7f0-6420-4897-960a-ed6f0ba7672b",
   "metadata": {},
   "outputs": [],
   "source": [
    "import numpy as np\n",
    "import pandas as pd\n",
    "num_series = pd.Series(np.arange(15) + np.random.normal(1, 10, 15))"
   ]
  },
  {
   "cell_type": "code",
   "execution_count": 3,
   "id": "faa7a67f-a2fa-4e77-8188-fd4f3ba2a5e3",
   "metadata": {},
   "outputs": [
    {
     "name": "stdout",
     "output_type": "stream",
     "text": [
      "Intel MKL WARNING: Support of Intel(R) Streaming SIMD Extensions 4.2 (Intel(R) SSE4.2) enabled only processors has been deprecated. Intel oneAPI Math Kernel Library 2025.0 will require Intel(R) Advanced Vector Extensions (Intel(R) AVX) instructions.\n",
      "Intel MKL WARNING: Support of Intel(R) Streaming SIMD Extensions 4.2 (Intel(R) SSE4.2) enabled only processors has been deprecated. Intel oneAPI Math Kernel Library 2025.0 will require Intel(R) Advanced Vector Extensions (Intel(R) AVX) instructions.\n",
      "Intel MKL WARNING: Support of Intel(R) Streaming SIMD Extensions 4.2 (Intel(R) SSE4.2) enabled only processors has been deprecated. Intel oneAPI Math Kernel Library 2025.0 will require Intel(R) Advanced Vector Extensions (Intel(R) AVX) instructions.\n",
      "Intel MKL WARNING: Support of Intel(R) Streaming SIMD Extensions 4.2 (Intel(R) SSE4.2) enabled only processors has been deprecated. Intel oneAPI Math Kernel Library 2025.0 will require Intel(R) Advanced Vector Extensions (Intel(R) AVX) instructions.\n",
      "Intel MKL WARNING: Support of Intel(R) Streaming SIMD Extensions 4.2 (Intel(R) SSE4.2) enabled only processors has been deprecated. Intel oneAPI Math Kernel Library 2025.0 will require Intel(R) Advanced Vector Extensions (Intel(R) AVX) instructions.\n",
      "Intel MKL WARNING: Support of Intel(R) Streaming SIMD Extensions 4.2 (Intel(R) SSE4.2) enabled only processors has been deprecated. Intel oneAPI Math Kernel Library 2025.0 will require Intel(R) Advanced Vector Extensions (Intel(R) AVX) instructions.\n",
      "Intel MKL WARNING: Support of Intel(R) Streaming SIMD Extensions 4.2 (Intel(R) SSE4.2) enabled only processors has been deprecated. Intel oneAPI Math Kernel Library 2025.0 will require Intel(R) Advanced Vector Extensions (Intel(R) AVX) instructions.\n",
      "Intel MKL WARNING: Support of Intel(R) Streaming SIMD Extensions 4.2 (Intel(R) SSE4.2) enabled only processors has been deprecated. Intel oneAPI Math Kernel Library 2025.0 will require Intel(R) Advanced Vector Extensions (Intel(R) AVX) instructions.\n",
      "Intel MKL WARNING: Support of Intel(R) Streaming SIMD Extensions 4.2 (Intel(R) SSE4.2) enabled only processors has been deprecated. Intel oneAPI Math Kernel Library 2025.0 will require Intel(R) Advanced Vector Extensions (Intel(R) AVX) instructions.\n",
      "Intel MKL WARNING: Support of Intel(R) Streaming SIMD Extensions 4.2 (Intel(R) SSE4.2) enabled only processors has been deprecated. Intel oneAPI Math Kernel Library 2025.0 will require Intel(R) Advanced Vector Extensions (Intel(R) AVX) instructions.\n",
      "Intel MKL WARNING: Support of Intel(R) Streaming SIMD Extensions 4.2 (Intel(R) SSE4.2) enabled only processors has been deprecated. Intel oneAPI Math Kernel Library 2025.0 will require Intel(R) Advanced Vector Extensions (Intel(R) AVX) instructions.\n"
     ]
    },
    {
     "data": {
      "text/plain": [
       "[1.0, 0.24, 0.36, 0.18, 0.19, 0.18, 0.13, 0.38, 0.44, 0.08, 0.58]"
      ]
     },
     "execution_count": 3,
     "metadata": {},
     "output_type": "execute_result"
    }
   ],
   "source": [
    "autocorrelations = [num_series.autocorr(i).round(2) for i in range(11)]\n",
    "autocorrelations"
   ]
  },
  {
   "cell_type": "markdown",
   "id": "27ff17a8-d4fa-4324-8272-c98d7177c9f1",
   "metadata": {},
   "source": [
    "#### 35. Write a Pandas program to create a TimeSeries to display all the Sundays of given year.\n"
   ]
  },
  {
   "cell_type": "raw",
   "id": "b3d5af9c-d87a-445d-aeea-91790d1291ba",
   "metadata": {},
   "source": [
    "Sample Output: \n",
    "All Sundays of 2019:\n",
    "0    2020-01-05\n",
    "1    2020-01-12\n",
    "2    2020-01-19\n",
    "3    2020-01-26\n",
    "4    2020-02-02\n",
    "5    2020-02-09\n",
    ".....\n",
    "48   2020-12-06 \n",
    "49   2020-12-13\n",
    "50   2020-12-20\n",
    "51   2020-12-27\n",
    "dtype: datetime64[ns]"
   ]
  },
  {
   "cell_type": "code",
   "execution_count": 21,
   "id": "c9bb5325-b1bb-456e-9fa4-babde69c9c16",
   "metadata": {},
   "outputs": [],
   "source": [
    "import datetime"
   ]
  },
  {
   "cell_type": "code",
   "execution_count": 27,
   "id": "74cf8add-d4f5-4ce0-9562-b21d2cb89b99",
   "metadata": {},
   "outputs": [
    {
     "data": {
      "text/plain": [
       "0    2020-01-05 00:00:00+05:30\n",
       "1    2020-01-12 00:00:00+05:30\n",
       "2    2020-01-19 00:00:00+05:30\n",
       "3    2020-01-26 00:00:00+05:30\n",
       "4    2020-02-02 00:00:00+05:30\n",
       "5    2020-02-09 00:00:00+05:30\n",
       "6    2020-02-16 00:00:00+05:30\n",
       "7    2020-02-23 00:00:00+05:30\n",
       "8    2020-03-01 00:00:00+05:30\n",
       "9    2020-03-08 00:00:00+05:30\n",
       "10   2020-03-15 00:00:00+05:30\n",
       "11   2020-03-22 00:00:00+05:30\n",
       "12   2020-03-29 00:00:00+05:30\n",
       "13   2020-04-05 00:00:00+05:30\n",
       "14   2020-04-12 00:00:00+05:30\n",
       "15   2020-04-19 00:00:00+05:30\n",
       "16   2020-04-26 00:00:00+05:30\n",
       "17   2020-05-03 00:00:00+05:30\n",
       "18   2020-05-10 00:00:00+05:30\n",
       "19   2020-05-17 00:00:00+05:30\n",
       "20   2020-05-24 00:00:00+05:30\n",
       "21   2020-05-31 00:00:00+05:30\n",
       "22   2020-06-07 00:00:00+05:30\n",
       "23   2020-06-14 00:00:00+05:30\n",
       "24   2020-06-21 00:00:00+05:30\n",
       "25   2020-06-28 00:00:00+05:30\n",
       "26   2020-07-05 00:00:00+05:30\n",
       "27   2020-07-12 00:00:00+05:30\n",
       "28   2020-07-19 00:00:00+05:30\n",
       "29   2020-07-26 00:00:00+05:30\n",
       "30   2020-08-02 00:00:00+05:30\n",
       "31   2020-08-09 00:00:00+05:30\n",
       "32   2020-08-16 00:00:00+05:30\n",
       "33   2020-08-23 00:00:00+05:30\n",
       "34   2020-08-30 00:00:00+05:30\n",
       "35   2020-09-06 00:00:00+05:30\n",
       "36   2020-09-13 00:00:00+05:30\n",
       "37   2020-09-20 00:00:00+05:30\n",
       "38   2020-09-27 00:00:00+05:30\n",
       "39   2020-10-04 00:00:00+05:30\n",
       "40   2020-10-11 00:00:00+05:30\n",
       "41   2020-10-18 00:00:00+05:30\n",
       "42   2020-10-25 00:00:00+05:30\n",
       "43   2020-11-01 00:00:00+05:30\n",
       "44   2020-11-08 00:00:00+05:30\n",
       "45   2020-11-15 00:00:00+05:30\n",
       "46   2020-11-22 00:00:00+05:30\n",
       "47   2020-11-29 00:00:00+05:30\n",
       "48   2020-12-06 00:00:00+05:30\n",
       "49   2020-12-13 00:00:00+05:30\n",
       "50   2020-12-20 00:00:00+05:30\n",
       "51   2020-12-27 00:00:00+05:30\n",
       "dtype: datetime64[ns, Asia/Kolkata]"
      ]
     },
     "execution_count": 27,
     "metadata": {},
     "output_type": "execute_result"
    }
   ],
   "source": [
    "year= '2020-01-01'\n",
    "result = pd.Series(pd.date_range(year, periods=52, freq='W-SUN',tz='Asia/Kolkata'))\n",
    "result"
   ]
  },
  {
   "cell_type": "markdown",
   "id": "2bacb132-1b30-4322-9ab1-6d858217b9d0",
   "metadata": {},
   "source": [
    "#### 36. Write a Pandas program to convert given series into a dataframe with its index as another column on the dataframe.\n"
   ]
  },
  {
   "cell_type": "raw",
   "id": "563f7653-020e-4e7d-bd35-28325ce62ccf",
   "metadata": {},
   "source": [
    "# Sample Output:\n",
    "  index  0\n",
    "0     A  0\n",
    "1     B  1\n",
    "2     C  2\n",
    "3     D  3\n",
    "4     E  4"
   ]
  },
  {
   "cell_type": "code",
   "execution_count": 30,
   "id": "2e50e067-6110-4495-a0d9-9adf2c84889f",
   "metadata": {},
   "outputs": [
    {
     "data": {
      "text/html": [
       "<div>\n",
       "<style scoped>\n",
       "    .dataframe tbody tr th:only-of-type {\n",
       "        vertical-align: middle;\n",
       "    }\n",
       "\n",
       "    .dataframe tbody tr th {\n",
       "        vertical-align: top;\n",
       "    }\n",
       "\n",
       "    .dataframe thead th {\n",
       "        text-align: right;\n",
       "    }\n",
       "</style>\n",
       "<table border=\"1\" class=\"dataframe\">\n",
       "  <thead>\n",
       "    <tr style=\"text-align: right;\">\n",
       "      <th></th>\n",
       "      <th>index</th>\n",
       "      <th>0</th>\n",
       "    </tr>\n",
       "  </thead>\n",
       "  <tbody>\n",
       "    <tr>\n",
       "      <th>0</th>\n",
       "      <td>A</td>\n",
       "      <td>0</td>\n",
       "    </tr>\n",
       "    <tr>\n",
       "      <th>1</th>\n",
       "      <td>B</td>\n",
       "      <td>1</td>\n",
       "    </tr>\n",
       "    <tr>\n",
       "      <th>2</th>\n",
       "      <td>C</td>\n",
       "      <td>2</td>\n",
       "    </tr>\n",
       "    <tr>\n",
       "      <th>3</th>\n",
       "      <td>D</td>\n",
       "      <td>3</td>\n",
       "    </tr>\n",
       "    <tr>\n",
       "      <th>4</th>\n",
       "      <td>E</td>\n",
       "      <td>4</td>\n",
       "    </tr>\n",
       "  </tbody>\n",
       "</table>\n",
       "</div>"
      ],
      "text/plain": [
       "  index  0\n",
       "0     A  0\n",
       "1     B  1\n",
       "2     C  2\n",
       "3     D  3\n",
       "4     E  4"
      ]
     },
     "execution_count": 30,
     "metadata": {},
     "output_type": "execute_result"
    }
   ],
   "source": [
    "l = list(range(0,5))\n",
    "i = list('ABCDE')\n",
    "s = pd.Series(data=l, index=i)\n",
    "s.to_frame().reset_index()"
   ]
  },
  {
   "cell_type": "markdown",
   "id": "df03b3e9-9891-4513-9204-1cf502e111b3",
   "metadata": {},
   "source": [
    "#### 37. Write a Pandas program to stack two given series vertically and horizontally.\n"
   ]
  },
  {
   "cell_type": "raw",
   "id": "b149db97-0e0a-4c85-8022-8c99ab620f66",
   "metadata": {},
   "source": [
    "Sample Output:\n",
    "Original Series:\n",
    "0    0\n",
    "1    1\n",
    "2    2\n",
    "....\n",
    "7    7\n",
    "8    8\n",
    "9    9\n",
    "dtype: int64\n",
    "0    p\n",
    "1    q\n",
    "2    r\n",
    "....\n",
    "7    w\n",
    "8    x\n",
    "9    y\n",
    "dtype: object\n",
    "\n",
    "Stack two given series vertically and horizontally:\n",
    "   0  1\n",
    "0  0  p\n",
    "1  1  q\n",
    "2  2  r\n",
    ".....\n",
    "8  8  x\n",
    "9  9  y "
   ]
  },
  {
   "cell_type": "code",
   "execution_count": 31,
   "id": "2be144aa-4dac-43a5-8925-ecc914a62d23",
   "metadata": {},
   "outputs": [],
   "source": [
    "series1 = pd.Series(range(10))\n",
    "series2 = pd.Series(list('pqrstuvwxy'))"
   ]
  },
  {
   "cell_type": "code",
   "execution_count": 32,
   "id": "ed140902-0b16-4a39-b6c9-561c773d2dc6",
   "metadata": {},
   "outputs": [
    {
     "data": {
      "text/plain": [
       "0    0\n",
       "1    1\n",
       "2    2\n",
       "3    3\n",
       "4    4\n",
       "5    5\n",
       "6    6\n",
       "7    7\n",
       "8    8\n",
       "9    9\n",
       "dtype: int64"
      ]
     },
     "metadata": {},
     "output_type": "display_data"
    },
    {
     "data": {
      "text/plain": [
       "0    p\n",
       "1    q\n",
       "2    r\n",
       "3    s\n",
       "4    t\n",
       "5    u\n",
       "6    v\n",
       "7    w\n",
       "8    x\n",
       "9    y\n",
       "dtype: object"
      ]
     },
     "metadata": {},
     "output_type": "display_data"
    }
   ],
   "source": [
    "display(series1, series2)"
   ]
  },
  {
   "cell_type": "code",
   "execution_count": 38,
   "id": "32588494-5192-491e-9ee9-40f040c28355",
   "metadata": {},
   "outputs": [
    {
     "data": {
      "text/html": [
       "<div>\n",
       "<style scoped>\n",
       "    .dataframe tbody tr th:only-of-type {\n",
       "        vertical-align: middle;\n",
       "    }\n",
       "\n",
       "    .dataframe tbody tr th {\n",
       "        vertical-align: top;\n",
       "    }\n",
       "\n",
       "    .dataframe thead th {\n",
       "        text-align: right;\n",
       "    }\n",
       "</style>\n",
       "<table border=\"1\" class=\"dataframe\">\n",
       "  <thead>\n",
       "    <tr style=\"text-align: right;\">\n",
       "      <th></th>\n",
       "      <th>0</th>\n",
       "      <th>1</th>\n",
       "    </tr>\n",
       "  </thead>\n",
       "  <tbody>\n",
       "    <tr>\n",
       "      <th>0</th>\n",
       "      <td>0</td>\n",
       "      <td>p</td>\n",
       "    </tr>\n",
       "    <tr>\n",
       "      <th>1</th>\n",
       "      <td>1</td>\n",
       "      <td>q</td>\n",
       "    </tr>\n",
       "    <tr>\n",
       "      <th>2</th>\n",
       "      <td>2</td>\n",
       "      <td>r</td>\n",
       "    </tr>\n",
       "    <tr>\n",
       "      <th>3</th>\n",
       "      <td>3</td>\n",
       "      <td>s</td>\n",
       "    </tr>\n",
       "    <tr>\n",
       "      <th>4</th>\n",
       "      <td>4</td>\n",
       "      <td>t</td>\n",
       "    </tr>\n",
       "    <tr>\n",
       "      <th>5</th>\n",
       "      <td>5</td>\n",
       "      <td>u</td>\n",
       "    </tr>\n",
       "    <tr>\n",
       "      <th>6</th>\n",
       "      <td>6</td>\n",
       "      <td>v</td>\n",
       "    </tr>\n",
       "    <tr>\n",
       "      <th>7</th>\n",
       "      <td>7</td>\n",
       "      <td>w</td>\n",
       "    </tr>\n",
       "    <tr>\n",
       "      <th>8</th>\n",
       "      <td>8</td>\n",
       "      <td>x</td>\n",
       "    </tr>\n",
       "    <tr>\n",
       "      <th>9</th>\n",
       "      <td>9</td>\n",
       "      <td>y</td>\n",
       "    </tr>\n",
       "  </tbody>\n",
       "</table>\n",
       "</div>"
      ],
      "text/plain": [
       "   0  1\n",
       "0  0  p\n",
       "1  1  q\n",
       "2  2  r\n",
       "3  3  s\n",
       "4  4  t\n",
       "5  5  u\n",
       "6  6  v\n",
       "7  7  w\n",
       "8  8  x\n",
       "9  9  y"
      ]
     },
     "execution_count": 38,
     "metadata": {},
     "output_type": "execute_result"
    }
   ],
   "source": [
    "pd.concat([series1,series2],axis=1)"
   ]
  },
  {
   "cell_type": "markdown",
   "id": "857974db-cb3c-44a8-b437-901a3d290594",
   "metadata": {},
   "source": [
    "#### 38. Write a Pandas program to check the equality of two given series.\n"
   ]
  },
  {
   "cell_type": "raw",
   "id": "3a092372-f394-4cb4-9352-8dbc0bddb5b6",
   "metadata": {},
   "source": [
    "Sample Output: \n",
    "Original Series:\n",
    "0    1\n",
    "1    8\n",
    "2    7\n",
    "...\n",
    "7    4\n",
    "8    7\n",
    "9    1\n",
    "dtype: int64\n",
    "0    1\n",
    "1    8\n",
    "2    7\n",
    "3    5\n",
    ".....\n",
    "8    7\n",
    "9    1\n",
    "dtype: int64\n",
    "Check 2 series are equal or not?\n",
    "0    True\n",
    "1    True\n",
    "2    True\n",
    "....\n",
    "7    True\n",
    "8    True\n",
    "9    True\n",
    "dtype: bool"
   ]
  },
  {
   "cell_type": "code",
   "execution_count": 39,
   "id": "4bd045a2-f106-4eff-a02f-fbcdab30b246",
   "metadata": {},
   "outputs": [
    {
     "data": {
      "text/plain": [
       "0    True\n",
       "1    True\n",
       "2    True\n",
       "3    True\n",
       "4    True\n",
       "5    True\n",
       "6    True\n",
       "7    True\n",
       "8    True\n",
       "9    True\n",
       "dtype: bool"
      ]
     },
     "execution_count": 39,
     "metadata": {},
     "output_type": "execute_result"
    }
   ],
   "source": [
    "nums1 = pd.Series([1, 8, 7, 5, 6, 5, 3, 4, 7, 1])\n",
    "nums2 = pd.Series([1, 8, 7, 5, 6, 5, 3, 4, 7, 1])\n",
    "nums1==nums2"
   ]
  },
  {
   "cell_type": "markdown",
   "id": "b48cdccb-1743-4a6d-a5a1-eb66e1e2bed5",
   "metadata": {},
   "source": [
    "#### 39. Write a Pandas program to find the index of the first occurrence of the smallest and largest value of a given series.\n"
   ]
  },
  {
   "cell_type": "raw",
   "id": "df65b142-5b48-48ef-9585-bc737a78fa08",
   "metadata": {},
   "source": [
    "Sample Output:\n",
    "Original Series:\n",
    "0     1\n",
    "1     3\n",
    "2     7\n",
    ".....\n",
    "7     1\n",
    "8     9\n",
    "9     0\n",
    "dtype: int64\n",
    "Index of the first occurrence of the smallest and largest value of the said series:\n",
    "9\n",
    "4"
   ]
  },
  {
   "cell_type": "code",
   "execution_count": 40,
   "id": "e608e28b-6911-4fd0-bc71-dd0555ec1d4d",
   "metadata": {},
   "outputs": [
    {
     "data": {
      "text/plain": [
       "9"
      ]
     },
     "execution_count": 40,
     "metadata": {},
     "output_type": "execute_result"
    }
   ],
   "source": [
    "nums = pd.Series([1, 3, 7, 12, 88, 23, 3, 1, 9, 0])\n",
    "nums.idxmin()"
   ]
  },
  {
   "cell_type": "code",
   "execution_count": 41,
   "id": "6cf9c500-ba28-4c2d-8f20-c255bb2555bf",
   "metadata": {},
   "outputs": [
    {
     "data": {
      "text/plain": [
       "4"
      ]
     },
     "execution_count": 41,
     "metadata": {},
     "output_type": "execute_result"
    }
   ],
   "source": [
    "nums.idxmax()"
   ]
  },
  {
   "cell_type": "markdown",
   "id": "6bb89d1f-3673-4511-bf02-c6d9d2bcd7f7",
   "metadata": {},
   "source": [
    "#### 40. Write a Pandas program to check inequality over the index axis of a given dataframe and a given series.\n"
   ]
  },
  {
   "cell_type": "raw",
   "id": "338d1f1a-6f2e-4bf8-b355-aa07808e9a5d",
   "metadata": {},
   "source": [
    "Sample Output: \n",
    "Original DataFrame:\n",
    "      W     X   Y   Z\n",
    "0  68.0  78.0  84  86\n",
    "1  75.0  75.0  94  97\n",
    "2  86.0   NaN  89  96\n",
    "3  80.0  80.0  86  72\n",
    "4   NaN  86.0  86  83\n",
    "\n",
    "Original Series:\n",
    "0    68.0\n",
    "1    75.0\n",
    "2    86.0\n",
    "3    80.0\n",
    "4     NaN\n",
    "dtype: float64\n",
    "\n",
    "Check for inequality of the said series & dataframe:\n",
    "       W      X     Y     Z\n",
    "0  False   True  True  True\n",
    "1  False  False  True  True\n",
    "2  False   True  True  True\n",
    "3  False  False  True  True\n",
    "4   True   True  True  True"
   ]
  },
  {
   "cell_type": "code",
   "execution_count": 42,
   "id": "9553d0f8-9e5c-49c0-9f6e-1b8e7ab9c281",
   "metadata": {},
   "outputs": [],
   "source": [
    "df_data = pd.DataFrame({'W':[68,75,86,80,None],'X':[78,75,None,80,86], 'Y':[84,94,89,86,86],'Z':[86,97,96,72,83]});\n",
    "sr_data = pd.Series([68, 75, 86, 80, None]) "
   ]
  },
  {
   "cell_type": "code",
   "execution_count": 46,
   "id": "b2759949-4931-4045-a256-b4a50caffc13",
   "metadata": {},
   "outputs": [
    {
     "data": {
      "text/html": [
       "<div>\n",
       "<style scoped>\n",
       "    .dataframe tbody tr th:only-of-type {\n",
       "        vertical-align: middle;\n",
       "    }\n",
       "\n",
       "    .dataframe tbody tr th {\n",
       "        vertical-align: top;\n",
       "    }\n",
       "\n",
       "    .dataframe thead th {\n",
       "        text-align: right;\n",
       "    }\n",
       "</style>\n",
       "<table border=\"1\" class=\"dataframe\">\n",
       "  <thead>\n",
       "    <tr style=\"text-align: right;\">\n",
       "      <th></th>\n",
       "      <th>W</th>\n",
       "      <th>X</th>\n",
       "      <th>Y</th>\n",
       "      <th>Z</th>\n",
       "    </tr>\n",
       "  </thead>\n",
       "  <tbody>\n",
       "    <tr>\n",
       "      <th>0</th>\n",
       "      <td>False</td>\n",
       "      <td>True</td>\n",
       "      <td>True</td>\n",
       "      <td>True</td>\n",
       "    </tr>\n",
       "    <tr>\n",
       "      <th>1</th>\n",
       "      <td>False</td>\n",
       "      <td>False</td>\n",
       "      <td>True</td>\n",
       "      <td>True</td>\n",
       "    </tr>\n",
       "    <tr>\n",
       "      <th>2</th>\n",
       "      <td>False</td>\n",
       "      <td>True</td>\n",
       "      <td>True</td>\n",
       "      <td>True</td>\n",
       "    </tr>\n",
       "    <tr>\n",
       "      <th>3</th>\n",
       "      <td>False</td>\n",
       "      <td>False</td>\n",
       "      <td>True</td>\n",
       "      <td>True</td>\n",
       "    </tr>\n",
       "    <tr>\n",
       "      <th>4</th>\n",
       "      <td>True</td>\n",
       "      <td>True</td>\n",
       "      <td>True</td>\n",
       "      <td>True</td>\n",
       "    </tr>\n",
       "  </tbody>\n",
       "</table>\n",
       "</div>"
      ],
      "text/plain": [
       "       W      X     Y     Z\n",
       "0  False   True  True  True\n",
       "1  False  False  True  True\n",
       "2  False   True  True  True\n",
       "3  False  False  True  True\n",
       "4   True   True  True  True"
      ]
     },
     "execution_count": 46,
     "metadata": {},
     "output_type": "execute_result"
    }
   ],
   "source": [
    "df_data.ne(sr_data, axis = 0)"
   ]
  }
 ],
 "metadata": {
  "kernelspec": {
   "display_name": "Python 3 (ipykernel)",
   "language": "python",
   "name": "python3"
  },
  "language_info": {
   "codemirror_mode": {
    "name": "ipython",
    "version": 3
   },
   "file_extension": ".py",
   "mimetype": "text/x-python",
   "name": "python",
   "nbconvert_exporter": "python",
   "pygments_lexer": "ipython3",
   "version": "3.11.8"
  }
 },
 "nbformat": 4,
 "nbformat_minor": 5
}
